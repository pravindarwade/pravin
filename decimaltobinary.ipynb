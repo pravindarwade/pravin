{
 "cells": [
  {
   "cell_type": "code",
   "execution_count": 1,
   "metadata": {},
   "outputs": [
    {
     "name": "stdout",
     "output_type": "stream",
     "text": [
      "enter no to find binary :14\n",
      "1110"
     ]
    }
   ],
   "source": [
    "l=[]\n",
    "f=[]\n",
    "x=int(input('enter no to find binary :'))\n",
    "if x%2==0  : \n",
    "    f.append(0)\n",
    "else:    \n",
    "    f.append(1)\n",
    "while x>1:\n",
    "    x=x//2\n",
    "    y=x%2\n",
    "    l.append(x)\n",
    "    f.append(y)\n",
    "#print(f[::-1])\n",
    "for i in f[::-1]:\n",
    "    print(i,end='')\n"
   ]
  },
  {
   "cell_type": "code",
   "execution_count": null,
   "metadata": {},
   "outputs": [],
   "source": []
  }
 ],
 "metadata": {
  "kernelspec": {
   "display_name": "Python 3",
   "language": "python",
   "name": "python3"
  },
  "language_info": {
   "codemirror_mode": {
    "name": "ipython",
    "version": 3
   },
   "file_extension": ".py",
   "mimetype": "text/x-python",
   "name": "python",
   "nbconvert_exporter": "python",
   "pygments_lexer": "ipython3",
   "version": "3.7.4"
  }
 },
 "nbformat": 4,
 "nbformat_minor": 2
}
